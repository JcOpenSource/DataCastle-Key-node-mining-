{
 "cells": [
  {
   "cell_type": "markdown",
   "metadata": {
    "collapsed": true
   },
   "source": [
    "# 主要内容\n",
    "* 识别网络中的超级传播者\n",
    "* 预测重要的蛋白质\n",
    "* 衡量学术影响力\n",
    "* 检测金融风险\n",
    "* 预测职业生涯\n",
    "* 预测软件故障"
   ]
  },
  {
   "cell_type": "markdown",
   "metadata": {},
   "source": [
    "# 1.寻找超级传播者\n",
    "疾病传播  $\\qquad$  $\\qquad$  vs  $\\qquad$  $\\qquad$  信息传播\n",
    "\n",
    "传播能力会不会减弱  $\\qquad$  $\\qquad$  信息传播有记忆\n",
    "\n",
    "连边器作用的方式有差异  $\\qquad$  $\\qquad$ 社会加强效应（三人成虎🐯）\n",
    "\n",
    "信息内容影响传播   $\\qquad$  $\\qquad$  连接作用的次数\n",
    "\n",
    "传播者角色上的差异\n",
    "\n",
    "来源：\n",
    "http：//blog.sciencenet.cn/blog-3075-502111.html"
   ]
  },
  {
   "cell_type": "markdown",
   "metadata": {},
   "source": [
    "信息传播和疾病传播是不同的，"
   ]
  },
  {
   "cell_type": "markdown",
   "metadata": {},
   "source": [
    "# 寻找超级传播者 - 中心性指标对比\n",
    "疾病传播  $\\qquad$  vs  $\\qquad$  信息传播\n",
    "* 核数  $\\qquad$  $\\qquad$  邻居节点的平均度\n",
    "* 度中心性  $\\qquad$  $\\qquad$ 接近中心性\n",
    "\n",
    "文献：\n",
    "<img src='fig/6-1.png' width='500'> "
   ]
  },
  {
   "cell_type": "markdown",
   "metadata": {},
   "source": [
    "核数和度中心性 疾病传播 中比较好\n",
    "\n",
    "邻居节点的平均度 和 接近中心性 在 信息传播 中比较好"
   ]
  },
  {
   "cell_type": "markdown",
   "metadata": {},
   "source": [
    "# 寻找超级传播者-真实实验\n",
    "珠海市-中国移动：__短信传播实验__  $\\qquad$ 9，330，493用户   $\\qquad$ 23，208，675连边\n",
    "\n",
    "步骤1.不同策略，各选1000个“信息源”\n",
    "* __度中心性__\n",
    "* __LeaderRank中心性__\n",
    "\n",
    "步骤2.公司直接发给“信息源”一条短信\n",
    "\n",
    "__步骤3.监控哪些用户名进行了转发__"
   ]
  },
  {
   "cell_type": "markdown",
   "metadata": {},
   "source": [
    "# 寻找超级传播者-真实实验结果\n",
    "<img src='fig/6-2.png' width='500'>\n",
    "文献：\n",
    "<img src='fig/6-3.png' width='500'> "
   ]
  },
  {
   "cell_type": "markdown",
   "metadata": {},
   "source": [
    "# 预测关键蛋白质\n",
    "* 理解维持基本胜利机能所需的物质[1]\n",
    "* 利用最小基因制造细胞[2]\n",
    "* 寻找致病基因[3]\n",
    "* 开发抗病毒药物、抗癌症疗法[4]\n",
    "\n",
    "文献：\n",
    "<img src='fig/6-4.png' width='500'> "
   ]
  },
  {
   "cell_type": "markdown",
   "metadata": {},
   "source": [
    "# 发现关键的蛋白质\n",
    "<img src='fig/6-5.png' width='500'> "
   ]
  },
  {
   "cell_type": "markdown",
   "metadata": {},
   "source": [
    "# 量化科学家的影响\n",
    "原数据：\n",
    "* H指数，文章总引用次数等\n",
    " \n",
    "科学合作网【网络建模一】：\n",
    "* 各种中心性指标\n",
    "<img src='fig/6-6.png' width='300'> \n",
    "论文引用网【网络建模二】：\n",
    "* CiteRank指标[5] 模拟学者查阅文章的方式 随机游走\n",
    "<img src='fig/6-7.png' width='300'> \n",
    "科学家引用网【网络建模三】：\n",
    "* Biased Random Walk & random redistribution[6] 有偏向的随机游走  随机的再分配\n",
    "<img src='fig/6-9.png' width='300'> \n",
    "\n",
    "\n",
    "文献：\n",
    "<img src='fig/6-8.png' width='700'> "
   ]
  },
  {
   "cell_type": "markdown",
   "metadata": {},
   "source": [
    "# 预测何时获得诺贝尔奖（科学家引用网络）\n",
    "步骤1.将科学家引用数据做__时间切片__\n",
    "\n",
    "步骤2.利用Biased Random Walk & random redistribution (重新分配)策略对科学家进行排名\n",
    "* （a）有偏好使得高排名的科学家更容易被选中\n",
    "* （b）重分配使得科学家得分的传播不限于局部\n",
    "\n",
    "步骤3.画出岁时间变化的科学家排名图\n",
    "<img src='fig/6-10.png' width='500'> \n",
    "文献：\n",
    "<img src='fig/6-11.png' width='700'> "
   ]
  },
  {
   "cell_type": "markdown",
   "metadata": {},
   "source": [
    "# 量化科学家影响-构造多层网络\n",
    "写作关系：\n",
    "* 文章的分数分配给作者\n",
    "\n",
    "引用关系：\n",
    "* 作者的分数投票给文章\n",
    "\n",
    "迭代（归一化）至稳态\n",
    "<img src='fig/6-12.png' width='500'> \n",
    "文献：\n",
    "<img src='fig/6-13.png' width='700'> \n",
    "更加复杂的网络：在论文共享社区中，构建“用户-文章-作者”三部分图\n",
    "<img src='fig/6-14.png' width='700'> "
   ]
  },
  {
   "cell_type": "markdown",
   "metadata": {},
   "source": [
    "cite 引用\n",
    "written 写作"
   ]
  },
  {
   "cell_type": "markdown",
   "metadata": {},
   "source": [
    "# 检测金融风险\n",
    "<img src='fig/6-15.png' width='700'> "
   ]
  },
  {
   "cell_type": "markdown",
   "metadata": {},
   "source": [
    "# DebtRank思路 （含权网络）\n",
    "每个机构有2个状态变量\n",
    "* （1）机构i在时刻t经历distress的量$h_i(t) \\in [0,1]$\n",
    "*  （2）机构i在时刻t的状态，状态空间有：未经历损失，损失，不活跃\n",
    "\n",
    "关键思路\n",
    ">步骤1:损失在金融网络中传播\n",
    "\n",
    ">步骤2：机构i的损失量根据相邻机构的损失量进行更新；\n",
    ">>当distress的量增长到1时，机构的状态的状态转为不活跃。\n",
    "\n",
    ">>注：当机构i在连续经历2次损失之后，distress的量直接增长到1；\n",
    "\n",
    ">步骤3.稳定后，机构哟啊么未经历损失，要么变得不活跃\n",
    "\n",
    "文献：\n",
    "<img src='fig/6-16.png' width='700'> "
   ]
  },
  {
   "cell_type": "markdown",
   "metadata": {},
   "source": [
    "# DebtRank分析08年金融危机\n",
    "<img src='fig/6-17.png' width='500'> \n",
    "文献：\n",
    "<img src='fig/6-18.png' width='700'> "
   ]
  },
  {
   "cell_type": "markdown",
   "metadata": {},
   "source": [
    "a金融危机之前\n",
    "\n",
    "b金融危机之后"
   ]
  },
  {
   "cell_type": "markdown",
   "metadata": {},
   "source": [
    "# 预测职业生涯\n",
    "<img src='fig/6-19.png' width='500'> \n",
    "<img src='fig/6-20.png' width='500'> \n",
    "文献\n",
    "<img src='fig/6-21.png' width='500'> "
   ]
  },
  {
   "cell_type": "markdown",
   "metadata": {},
   "source": [
    "相比于第一天，第七天的公司绩效得到了显著提升。"
   ]
  },
  {
   "cell_type": "markdown",
   "metadata": {},
   "source": [
    "# 预测职业生涯\n",
    "<img src='fig/6-22.png' width='500'> \n",
    "文献\n",
    "<img src='fig/6-23.png' width='700'> "
   ]
  },
  {
   "cell_type": "markdown",
   "metadata": {},
   "source": [
    "$S^{in}$ $S^{out}$ 含权网络"
   ]
  },
  {
   "cell_type": "markdown",
   "metadata": {},
   "source": [
    "# 预测软件故障\n",
    "<img src='fig/6-24.png' width='500'> \n",
    "文献\n",
    "<img src='fig/6-25.png' width='800'> "
   ]
  },
  {
   "cell_type": "markdown",
   "metadata": {},
   "source": [
    "# 社交-技术网络\n",
    "在此网络中国应用度中心性、接近中心性，介数中心性等指标，预测效果更好\n",
    "<img src='fig/6-26.png' width='600'> \n",
    "* 圆圈表示模块\n",
    "* 方块表示人\n",
    "\n",
    "文献：\n",
    "<img src='fig/6-27.png' width='800'> "
   ]
  },
  {
   "cell_type": "code",
   "execution_count": null,
   "metadata": {
    "collapsed": true
   },
   "outputs": [],
   "source": []
  },
  {
   "cell_type": "code",
   "execution_count": null,
   "metadata": {
    "collapsed": true
   },
   "outputs": [],
   "source": []
  }
 ],
 "metadata": {
  "kernelspec": {
   "display_name": "Python 2",
   "language": "python",
   "name": "python2"
  },
  "language_info": {
   "codemirror_mode": {
    "name": "ipython",
    "version": 2
   },
   "file_extension": ".py",
   "mimetype": "text/x-python",
   "name": "python",
   "nbconvert_exporter": "python",
   "pygments_lexer": "ipython2",
   "version": "2.7.13"
  }
 },
 "nbformat": 4,
 "nbformat_minor": 2
}
