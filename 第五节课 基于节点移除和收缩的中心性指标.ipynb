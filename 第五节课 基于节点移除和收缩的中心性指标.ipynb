{
 "cells": [
  {
   "cell_type": "markdown",
   "metadata": {
    "collapsed": true
   },
   "source": [
    "# 连痛性敏感的方法\n",
    "<img src='fig\\5-1.png' width='500'>"
   ]
  },
  {
   "cell_type": "markdown",
   "metadata": {},
   "source": [
    "关于节点移除对于网络的影响，上图无互联网的结构图，当我们删除网络中度最大的2%的节点，网络的连通性就早到了极大的破坏，变成了许多四分五裂的小集团，这也就是为什么，基于节点删除的方法可以去衡量节点重要性的原因。"
   ]
  },
  {
   "cell_type": "markdown",
   "metadata": {},
   "source": [
    "具体到实际的问题，不同的算法会考虑到什么样的角度来考虑节点的重要性呢。\n",
    "\n",
    "一般情况下大家会从三个方向考察。"
   ]
  },
  {
   "cell_type": "markdown",
   "metadata": {},
   "source": [
    "考察以下几个特征的变化：\n",
    "* 最大连通团的规模\n",
    "* 连通集团的数目\n",
    "* 节点之间的平均距离\n",
    "\n",
    "** 思路直接、简单     但不适用于衡量单个节点的重要性 **\n",
    "\n",
    "有三个部分：\n",
    "* 1.被删除的节点与其他节点之间的距离变化\n",
    "* 2.被删除节点之间的距离变化\n",
    "* 3.节点被删除之后，剩余节点之间的距离变化 \n",
    "\n",
    "文献：\n",
    "<img src='fig\\5-2.png' width='500'>"
   ]
  },
  {
   "cell_type": "markdown",
   "metadata": {},
   "source": [
    "解释：\n",
    "* 最大连通团的规模 如上述例子中，在删除2%的节点之后，原来整个连通的网络变得不再连通，那最大连通集团的规模就从整个网络变成了只有一小块，从这个角度将，这些节点是比较重要的。（只是删除了度最大的2%的节点，整个网络就变得支离破碎了）\n",
    "* 连通集团的数目 网络变成了非常多的小集团\n",
    "* 节点之间的平均距离 \n",
    "    * 把节点分成两个部分，一部分删除的节点，一部分没有删除的节点（剩余节点）。\n",
    "    * 距离的变化来自三种：\n",
    "        * 1.被删除的节点与其他节点之间的距离变化\n",
    "        * 2.被删除节点之间的距离变化 【容易被忽略】\n",
    "        * 3.节点被删除之后，剩余节点之间的距离变化 \n",
    "    * 时间复杂性上肯定很高\n",
    "    * 对于删除单个节点并不明显，同时删除多个节点，则很容易使得网络不再连通，这时候这个方法的优越性就体现了出来。"
   ]
  },
  {
   "cell_type": "markdown",
   "metadata": {},
   "source": [
    "# 稳定性敏感的方法\n",
    "背景：删除互联网中一个重要的路由器，信息不会被阻塞，但却会降低传输效率\n",
    "\n",
    "故：一个节点重要，删除它之后，对于网路稳定性的损害也该越强！\n",
    "\n",
    "残余接近中心性：（节点删除后对于网络稳定的损害）\n",
    "$$RCC(i) = \\sum_j\\sum_{k \\not= j}\\frac{1}{2^{d_{jk}(-i)}}$$\n",
    "评价网路稳定性：\n",
    "$$R = min_i\\{RCC(i)\\}$$\n",
    "文献：\n",
    "<img src='fig\\5-3.png' width='500'>"
   ]
  },
  {
   "cell_type": "markdown",
   "metadata": {},
   "source": [
    "残余接近中心性：节点删除后对于网络稳定的损害。\n",
    "\n",
    "接近中心性的定义：接近中心性主要考察的就是目标节点与其他节点之间的平均距离，$$c(i) = \\frac{N-1}{\\sum_{k \\not= i}^{N}d_{ik}}$$\n",
    "* 分子：有多少个节点。\n",
    "* 分母：就是目标节点与其他所有节点之间的平均最短距离。\n",
    "* 问题：网络一旦不连通，比如i和k的距离变成了正无穷。这个式子就变的无效，无意义了，极限就是0.\n",
    "改进形式 $$C(i) = \\sum_{k \\not= i}^{N} \\frac{1}{d_{ik}}$$\n",
    "\n",
    "在这个中心性的基础上，作者有进行了一步改进，让最短距离变成2的指数，这样的计算会使得计算变的比较高效，（在原文中有证明）更加这个改进就定义了残余接近中心性。\n",
    "\n",
    "节点i的残余中心性，就是将节点i删除之后，剩余网络中每一个节点残余中心性之和。\n",
    "\n",
    "近而用残余中心性去定义整个网络的稳定性。"
   ]
  },
  {
   "cell_type": "markdown",
   "metadata": {},
   "source": [
    "残余中心性最下的值，就是整个网络的稳定性。"
   ]
  },
  {
   "cell_type": "markdown",
   "metadata": {},
   "source": [
    "# 稳定性敏感的方法—不相交路径\n",
    "不相交路径：不共享任何一个中间的节点\n",
    "\n",
    "两个节点之间的易损性定义为\n",
    "$$V(v_i,v_j) = \\frac{p_{ij}}{P_{ij}^{full}}$$\n",
    "整个网路的易损性定义为\n",
    "$$V(G) = \\frac{\\sum p_{ij}}{\\sum p_{ij}^{full}}$$\n",
    "文献：\n",
    "<img src='fig\\5-2.png' width='500'>"
   ]
  },
  {
   "cell_type": "markdown",
   "metadata": {},
   "source": [
    "不相交路径就是不共享任何一个中间节点的两条路径。例如两个路径分别是ABCDE，另外一条路径是ABE，那么他们就是相交的路径。如果是AFGE，它就是一个不相交的路径。\n",
    "\n",
    "考察不相交路径的意义：性互联网传输信息的角度讲，当网络中两个节点之间的路径越多样，这个网络它对信息传播的稳定性越高。比如它很难被某一个站点的失效而受到阻断，于是这片文章包先生就通过统计不相交路径，来去衡量网络的这种稳定性。或者反过来就叫做易损性。\n",
    "\n",
    "两个节点之间的易损性定义为\n",
    "$$V(v_i,v_j) = \\frac{p_{ij}}{P_{ij}^{full}}$$\n",
    "* ${p_{ij}}$：真实网络里，从节点i到节点j之间不相交路径的条数，\n",
    "* $P_{ij}^{full}$:是一个benchmark（标准），对于真实网络来讲，我们把它补全成一个全网络，在这个全网络里边节点i到节点j之间，一共有多少条不相交的路径。就作为一个分母来去做一下公正的对比。这个时候就可以衡量出来节点之间的易损性有多强。衡量出每对节点的易损性，就可以衡量出没一对节点的易损性。\n",
    "\n",
    "整个网路的易损性定义为\n",
    "$$V(G) = \\frac{\\sum p_{ij}}{\\sum p_{ij}^{full}}$$\n",
    "即：对每一对节点都去计算他们的易损性，然后求和。\n",
    "\n",
    "缺点：\n",
    "* 复杂性比较高\n",
    "* 面临这单个节点和多个节点的问题。在这种方法中单个节点的删除对与网络的影响可能不是很大。，也不是很使用与单个节点的重要性的评估。"
   ]
  },
  {
   "cell_type": "markdown",
   "metadata": {},
   "source": [
    "基于节点移除的其他方法："
   ]
  },
  {
   "cell_type": "markdown",
   "metadata": {
    "collapsed": true
   },
   "source": [
    "# 稳定性铭感的方法-其他方法\n",
    "<img src='fig\\5-4.png' width='500'> "
   ]
  },
  {
   "cell_type": "markdown",
   "metadata": {
    "collapsed": true
   },
   "source": [
    "# 基于节点收缩的方法\n",
    "节点收缩就是讲一个节点和它的邻居节点收缩成一个新节点\n",
    "<img src='fig\\5-5.png' width='500'> \n",
    "文献：\n",
    "<img src='fig\\5-6.png' width='500'> "
   ]
  },
  {
   "cell_type": "markdown",
   "metadata": {},
   "source": [
    "节点收缩之后可以将网络更好的凝聚在一起，"
   ]
  },
  {
   "cell_type": "markdown",
   "metadata": {
    "collapsed": true
   },
   "source": [
    "# 基于节点收缩的方法\n",
    "节点收缩就是将一个节点和它的邻节点收缩成一个新节点\n",
    "\n",
    "收缩后，可以将网络更好的凝缩在一起！\n",
    "\n",
    "怎么度量凝聚程度呢？\n",
    "$$\\partial[G] = \\frac{1}{n \\cdot <d> = \\frac{1}{n \\cdot \\frac{\\sum_{i \\not= j}d_ij}{n(n-1)}}} = \\frac{n-1}{\\sum_{i \\not= j}d_{ij}}$$\n",
    "文献：\n",
    "<img src='fig\\5-6.png' width='500'> "
   ]
  },
  {
   "cell_type": "markdown",
   "metadata": {},
   "source": [
    "怎么去度量一个网络的凝聚程度呢？从社会学角度上来将，社会网络中人与人的联系越方便，也就是说他们的平均距离越短，人数越少网络中节点数目越少，\n",
    "\n",
    "这个社交网络的凝聚程度也就越高，他们的平均距离越短，人数越少网络中节点数目越少\n",
    "\n",
    "网络的凝聚程度定义为：$\\partial[G] = \\frac{1}{n \\cdot <d> = \\frac{1}{n \\cdot \\frac{\\sum_{i \\not= j}d_ij}{n(n-1)}}} = \\frac{n-1}{\\sum_{i \\not= j}d_{ij}}$\n",
    "* n ：节点的数目\n",
    "*  $<d>$：平均最短距离长度的倒数\n",
    "* 后面将$<d>$展开，然后进行公式的推导，$\\partial[G] = \\frac{1}{n \\cdot <d>} = \\frac{1}{n \\cdot \\frac{\\sum_{i \\not= j}d_ij}{n(n-1)}} = \\frac{n-1}{\\sum_{i \\not= j}d_{ij}}$\n",
    "* 显然当n=1，网络的凝聚程度就是0\n",
    "* 当然这个显示是不对的，当节点的数目是1的时候，这个网络的凝聚程度是最大的。\n",
    "* 因此文章规定，当n=1时，网络的凝聚程度就是1.\n"
   ]
  },
  {
   "cell_type": "markdown",
   "metadata": {},
   "source": [
    "我们去观察收缩节点i之后，网络凝聚度的变化发生的程度是多少，就可以得到这个节点的重要性。"
   ]
  },
  {
   "cell_type": "markdown",
   "metadata": {
    "collapsed": true
   },
   "source": [
    "# 考察网络凝聚度的变化\n",
    "收缩节点i之后，网络凝聚度的变化\n",
    "$$$$\n",
    "\\begin{aligned} \n",
    "IMC(i) & = 1 - \\frac{\\partial[G]}{\\partial[ G_{\\circledcirc v_i}]} \\\\\n",
    "   & \\frac{n \\cdot < d >_G - (n - k_i) \\cdot < d >_{ G_{\\circledcirc v_i}}}{n \\cdot < d >_G}\n",
    "\\end{aligned}\n",
    "\n",
    "* $\\partial[G]$：原网络的凝聚程度\n",
    "* $\\partial[ G_{\\circledcirc v_i}]$：删除节点i之后的网络的凝聚程度\n",
    "* 然后用1减去这个比值，就得到这个网络凝聚程度的变化。\n",
    "\n",
    "显然，节点对凝聚度的影响取决于两点 \n",
    "* 一个是它的度；\n",
    "* 另一个是在网络中的位置。\n",
    "\n",
    "解释：\n",
    "* 若节点的度很大，收缩该节点会极大减少网络中的节点数目\n",
    "* 若通过该节点的最短路径很多，收缩该节点会极大降低网络平均最短路径长度"
   ]
  },
  {
   "cell_type": "markdown",
   "metadata": {},
   "source": [
    "因此这个方法还是比较精妙的它同时考虑了网络中节点的度中心性以及介数中心性。但是这个方法最大的问题也在于它的计算复杂度是比较高的，因为它要去计算删除每一个节点之后，网络平均最短路径，这个是非常耗时的。"
   ]
  },
  {
   "cell_type": "markdown",
   "metadata": {
    "collapsed": true
   },
   "source": [
    "<img src='fig\\5-7.png' width='500'>"
   ]
  },
  {
   "cell_type": "markdown",
   "metadata": {
    "collapsed": true
   },
   "source": [
    "5 基于动力学的指标\n",
    "\n",
    "6 识别一组关键节点的这些方法"
   ]
  },
  {
   "cell_type": "markdown",
   "metadata": {
    "collapsed": true
   },
   "source": [
    "为什么听这节课对这个研究方向是真爱❤️呢？"
   ]
  },
  {
   "cell_type": "code",
   "execution_count": null,
   "metadata": {
    "collapsed": true
   },
   "outputs": [],
   "source": []
  }
 ],
 "metadata": {
  "kernelspec": {
   "display_name": "Python 2",
   "language": "python",
   "name": "python2"
  },
  "language_info": {
   "codemirror_mode": {
    "name": "ipython",
    "version": 2
   },
   "file_extension": ".py",
   "mimetype": "text/x-python",
   "name": "python",
   "nbconvert_exporter": "python",
   "pygments_lexer": "ipython2",
   "version": "2.7.13"
  }
 },
 "nbformat": 4,
 "nbformat_minor": 2
}
