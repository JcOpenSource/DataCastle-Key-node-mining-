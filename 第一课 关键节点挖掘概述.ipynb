{
 "cells": [
  {
   "cell_type": "markdown",
   "metadata": {},
   "source": [
    "# 作者：张千明\n",
    "\n",
    "引言：\n",
    "\n",
    "网络是大数据时代非常重要的数据，例如，作家协作网络，金融网络、社交网络\n",
    "\n",
    "有一些节点总是比另外一些节点更加重要，例如在社交网络中有一些节点带来的信息传递的价值远远高于其他节点。"
   ]
  },
  {
   "cell_type": "markdown",
   "metadata": {},
   "source": [
    "## 什么是关键节点"
   ]
  },
  {
   "cell_type": "markdown",
   "metadata": {},
   "source": [
    "引例：阿喀琉斯（脚踝是他的弱点）\n",
    "\n",
    "即便是一个再强大的系统也存在弱点   __鲁棒系统中的弱点__ 即关键节点\n",
    "\n",
    "例子一：\n",
    "\n",
    "脆弱的互联网 （删除重要的节点---互联网一般情况下是健壮的，但面临某些有预谋的攻击时，就会变得非常脆弱）\n",
    "![image.png](fig/1.1.png)"
   ]
  },
  {
   "cell_type": "markdown",
   "metadata": {},
   "source": [
    "例子二：\n",
    "高效却有脆弱的电网 （2003年一颗大树摧毁了美国东部的一个局部电力系统 过载）\n",
    "![image.png](fig/1.2.png)"
   ]
  },
  {
   "cell_type": "markdown",
   "metadata": {},
   "source": [
    "两个例子的共同特征：\n",
    "![image.png](fig/1.3.png)"
   ]
  },
  {
   "cell_type": "markdown",
   "metadata": {},
   "source": [
    "社交网络：微博大V就是关键节点 对信息传播非常重要\n",
    "\n",
    "合作网络：对于该研究领域有更多的贡献。\n",
    "\n",
    "交通网络：可以看出城市的重要性\n",
    "\n",
    "金融系统：关键节点 经济问题 的转嫁 给相邻节点   传播    形成金融风险 （预防金融危机，金融风险）"
   ]
  },
  {
   "cell_type": "markdown",
   "metadata": {},
   "source": [
    "## 如何挖掘关键节点"
   ]
  },
  {
   "cell_type": "markdown",
   "metadata": {},
   "source": [
    "### 常见的中心性指标  即 重要性指标\n",
    "* 基于邻居节点的结构化指标\n",
    "* 基于路径的结构化指标\n",
    "* 基于迭代寻优的中心性指标 （作者喜欢）\n",
    "* 基于节点移除/收缩的中心性指标\n",
    "![image.png](fig/1.4.png)"
   ]
  },
  {
   "cell_type": "code",
   "execution_count": null,
   "metadata": {
    "collapsed": true
   },
   "outputs": [],
   "source": [
    "\n"
   ]
  }
 ],
 "metadata": {
  "kernelspec": {
   "display_name": "Python 2",
   "language": "python",
   "name": "python2"
  },
  "language_info": {
   "codemirror_mode": {
    "name": "ipython",
    "version": 2
   },
   "file_extension": ".py",
   "mimetype": "text/x-python",
   "name": "python",
   "nbconvert_exporter": "python",
   "pygments_lexer": "ipython2",
   "version": "2.7.13"
  }
 },
 "nbformat": 4,
 "nbformat_minor": 2
}
